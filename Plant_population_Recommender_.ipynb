{
  "cells": [
    {
      "cell_type": "markdown",
      "metadata": {
        "id": "view-in-github",
        "colab_type": "text"
      },
      "source": [
        "<a href=\"https://colab.research.google.com/github/aoluwar/DATA-SCIENCE-/blob/main/Plant_population_Recommender_.ipynb\" target=\"_parent\"><img src=\"https://colab.research.google.com/assets/colab-badge.svg\" alt=\"Open In Colab\"/></a>"
      ]
    },
    {
      "cell_type": "markdown",
      "metadata": {
        "id": "i3FidFs2TIEu"
      },
      "source": []
    },
    {
      "cell_type": "code",
      "execution_count": null,
      "metadata": {
        "id": "QazXhkhfxtDW"
      },
      "outputs": [],
      "source": [
        "import requests\n",
        "\n"
      ]
    },
    {
      "cell_type": "code",
      "execution_count": null,
      "metadata": {
        "id": "nt6EjiYW_O6E"
      },
      "outputs": [],
      "source": [
        "def get_area(id):\n",
        "  url = \"https://ground-cover.growng.company/api/v1\"\n",
        "  response = requests.get(url)\n",
        "  data= response.json()\n",
        "  if response.status_code == 200:\n",
        "    count = 0\n",
        "    for i in range (len(data[\"outline\"])):\n",
        "      try:\n",
        "        if id == data[\"outline\"][i][\"_id\"]:\n",
        "          area = data[\"outline\"][i][\"area\"]\n",
        "          break\n",
        "      except:\n",
        "        print(f\"Error at line {count+1}\")\n",
        "\n",
        "      count+=1\n",
        "      print(count)\n",
        "  else:\n",
        "      print(\"Error calling API, status code:\", response.status_code)\n",
        "\n",
        "  return area[0]"
      ]
    },
    {
      "cell_type": "code",
      "execution_count": null,
      "metadata": {
        "colab": {
          "base_uri": "https://localhost:8080/"
        },
        "id": "ghP-2iL7u7u_",
        "outputId": "8359ee00-eecb-431b-9b8b-1e7d5038d734"
      },
      "outputs": [
        {
          "output_type": "stream",
          "name": "stdout",
          "text": [
            "Enter crop type (maize or cassava): maize\n",
            "63cad11e9cf9052099a04540\n",
            "4.63\n",
            "Total plant population for maize crop with 75 by 25 spacing: 246933 plants/ha\n",
            "Total plant population for maize crop with 90 by 20 spacing: 237056 plants/ha\n"
          ]
        }
      ],
      "source": [
        "def calculate_plant_population(row_spacing, plant_spacing, land_area, crop):\n",
        "    # Convert row spacing and column spacing from meters to centimeters\n",
        "    row_spacing_cm = row_spacing * 100\n",
        "    plant_spacing_cm = plant_spacing * 100\n",
        "\n",
        "    # Convert land area from hectares to square meters\n",
        "    land_area_m2 = land_area * 10000\n",
        "\n",
        "    # Calculate number of plants per meter of row and column based on crop type and spacing\n",
        "    if crop == \"maize\":\n",
        "        plants_per_row = 100 / row_spacing_cm\n",
        "        plants_per_plant = 100 / plant_spacing_cm\n",
        "    elif crop == \"cassava\":\n",
        "        plants_per_row = 100 / row_spacing_cm\n",
        "        plants_per_plant = 50 / plant_spacing_cm\n",
        "    else:\n",
        "        print(\"Invalid crop!\")\n",
        "        return None\n",
        "\n",
        "    # Calculate plant density (plants per square meter) for each configuration\n",
        "    plant_density_75_25 = plants_per_row * plants_per_plant\n",
        "    plant_density_90_20 = plants_per_row * (plants_per_plant / 1.25) * 1.2\n",
        "\n",
        "    # Calculate total plant population for each configuration\n",
        "    total_plants_75_25 = plant_density_75_25 * land_area_m2\n",
        "    total_plants_90_20 = plant_density_90_20 * land_area_m2\n",
        "\n",
        "    # Return results as a tuple\n",
        "    return total_plants_75_25, total_plants_90_20\n",
        "\n",
        "# Example usage\n",
        "id = \"63cad11e9cf9052099a04540\"\n",
        "row_spacing_maize = 0.75 # meters\n",
        "plant_spacing_maize = 0.25 # meters\n",
        "row_spacing_cassava = 1 # meters\n",
        "plant_spacing_cassava = 1 # meters\n",
        "land_area = float(get_area(id).replace ('ha', ''))\n",
        "crop = input(\"Enter crop type (maize or cassava): \")\n",
        "\n",
        "if crop == \"maize\":\n",
        "    total_plants_75_25, total_plants_90_20 = calculate_plant_population(row_spacing_maize, plant_spacing_maize, land_area, crop)\n",
        "elif crop == \"cassava\":\n",
        "    total_plants_75_25, total_plants_90_20 = calculate_plant_population(row_spacing_cassava, plant_spacing_cassava, land_area, crop)\n",
        "else:\n",
        "    print(\"Invalid crop type!\")\n",
        "\n",
        "# Print results\n",
        "print(id)\n",
        "print(land_area)\n",
        "print(f\"Total plant population for {crop} crop with 75 by 25 spacing: {int(total_plants_75_25)} plants/ha\")\n",
        "print(f\"Total plant population for {crop} crop with 90 by 20 spacing: {int(total_plants_90_20)} plants/ha\")"
      ]
    },
    {
      "cell_type": "code",
      "execution_count": null,
      "metadata": {
        "id": "BrNZEnil-H1g"
      },
      "outputs": [],
      "source": []
    }
  ],
  "metadata": {
    "colab": {
      "provenance": [],
      "authorship_tag": "ABX9TyNgdaRhM9HFgGSQ8k5xJbRM",
      "include_colab_link": true
    },
    "kernelspec": {
      "display_name": "Python 3",
      "name": "python3"
    },
    "language_info": {
      "name": "python"
    }
  },
  "nbformat": 4,
  "nbformat_minor": 0
}